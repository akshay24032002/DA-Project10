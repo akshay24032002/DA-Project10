{
  "nbformat": 4,
  "nbformat_minor": 0,
  "metadata": {
    "colab": {
      "provenance": [],
      "collapsed_sections": [
        "yQaldy8SH6Dl",
        "PH-0ReGfmX4f",
        "nA9Y7ga8ng1Z",
        "u3PMJOP6ngxN",
        "GF8Ens_Soomf",
        "8dEX6oZWrtew",
        "0wOQAZs5pc--",
        "KSlN3yHqYklG",
        "EM7whBJCYoAo",
        "4Of9eVA-YrdM",
        "bamQiAODYuh1",
        "OH-pJp9IphqM",
        "PIIx-8_IphqN",
        "0kz2ilcer08W",
        "YJ55k-q6phqO",
        "U2RJ9gkRphqQ",
        "x-EpHcCOp1ci",
        "n3dbpmDWp1ck",
        "Ag9LCva-p1cl",
        "GgFY8Aym6Dct",
        "Q8QvPwwW9FKW",
        "ZCmJOosf9dvI",
        "7edEF6bGit5C",
        "TOOyIZTVJgLn",
        "89oSn1YAJgMe",
        "NC_X3p0fY2L0",
        "q29F0dvdveiT",
        "JcMwzZxoAimU"
      ]
    },
    "kernelspec": {
      "name": "python3",
      "display_name": "Python 3"
    },
    "language_info": {
      "name": "python"
    }
  },
  "cells": [
    {
      "cell_type": "markdown",
      "source": [
        "# **Project Name**    - Netflix EDA Project\n",
        "\n"
      ],
      "metadata": {
        "id": "vncDsAP0Gaoa"
      }
    },
    {
      "cell_type": "markdown",
      "source": [
        "##### **Project Type**    - EDA\n",
        "##### **Contribution**    - Individual\n"
      ],
      "metadata": {
        "id": "beRrZCGUAJYm"
      }
    },
    {
      "cell_type": "markdown",
      "source": [
        "# **Project Summary -**"
      ],
      "metadata": {
        "id": "FJNUwmbgGyua"
      }
    },
    {
      "cell_type": "markdown",
      "source": [
        "This project focuses on performing Exploratory Data Analysis (EDA) on a dataset containing all TV shows and movies available on Netflix as of 2019. The dataset, collected from Flixable (a third-party Netflix search engine), provides insights into the type, distribution, and availability of Netflix content over the years.\n",
        "\n",
        "According to a 2018 report, the number of TV shows on Netflix has nearly tripled since 2010, while the number of movies has decreased by over 2,000 titles. This project aims to investigate such trends to determine if Netflix has shifted its focus from movies to TV shows in recent years.\n",
        "\n",
        "Key objectives include analyzing content availability across different countries, identifying patterns in content type (TV shows vs. movies), and clustering similar content based on text features like descriptions, genres, and cast. These clusters can help understand the nature of content Netflix offers and support recommendation systems.\n",
        "\n",
        "The project also explores how Netflix's content strategy varies by region, revealing how content is localized for different markets. Visualizations and trend analysis will be used to highlight changes over time and geographical preferences.\n",
        "\n",
        "Overall, the project delivers data-driven insights into Netflix’s evolving content strategy, helping understand platform priorities, audience preferences, and opportunities for content personalization."
      ],
      "metadata": {
        "id": "F6v_1wHtG2nS"
      }
    },
    {
      "cell_type": "markdown",
      "source": [
        "# **GitHub Link -**"
      ],
      "metadata": {
        "id": "w6K7xa23Elo4"
      }
    },
    {
      "cell_type": "markdown",
      "source": [
        "https://github.com/akshay24032002/DA-Project10.git"
      ],
      "metadata": {
        "id": "h1o69JH3Eqqn"
      }
    },
    {
      "cell_type": "markdown",
      "source": [
        "# **Problem Statement**\n"
      ],
      "metadata": {
        "id": "yQaldy8SH6Dl"
      }
    },
    {
      "cell_type": "markdown",
      "source": [
        "With the rapid growth and diversification of content on streaming platforms, it becomes essential to understand how content offerings have evolved over time. Specifically, Netflix appears to have shifted its focus from movies to TV shows in recent years. However, without thorough analysis, this assumption remains speculative. Additionally, there is limited visibility into the type of content available in various countries and how content clusters based on similarities."
      ],
      "metadata": {
        "id": "DpeJGUA3kjGy"
      }
    },
    {
      "cell_type": "markdown",
      "source": [
        "#### **Define Your Business Objective?**"
      ],
      "metadata": {
        "id": "PH-0ReGfmX4f"
      }
    },
    {
      "cell_type": "markdown",
      "source": [
        "The objective of this project is to perform a comprehensive exploratory data analysis on Netflix's content catalog as of 2019. The goals include:\n",
        "\n",
        " * Identifying trends in the distribution of TV shows vs. movies over time.\n",
        "\n",
        " * Understanding the availability and type of content across different countries.\n",
        "\n",
        " * Determining whether Netflix is strategically shifting focus toward episodic content like TV shows.\n",
        "\n",
        " * Clustering content with similar characteristics based on text-based features to enhance content recommendation capabilities.\n",
        "\n",
        "These insights aim to support strategic decision-making regarding content acquisition, marketing localization, and personalized content delivery on the platform."
      ],
      "metadata": {
        "id": "PhDvGCAqmjP1"
      }
    },
    {
      "cell_type": "markdown",
      "source": [
        "# ***Let's Begin !***"
      ],
      "metadata": {
        "id": "O_i_v8NEhb9l"
      }
    },
    {
      "cell_type": "markdown",
      "source": [
        "## ***1. Know Your Data***"
      ],
      "metadata": {
        "id": "HhfV-JJviCcP"
      }
    },
    {
      "cell_type": "markdown",
      "source": [
        "### Import Libraries"
      ],
      "metadata": {
        "id": "Y3lxredqlCYt"
      }
    },
    {
      "cell_type": "code",
      "source": [
        "# Import Libraries\n",
        "import pandas as pd\n",
        "import numpy as np\n",
        "import matplotlib.pyplot as plt\n",
        "import seaborn as sns\n",
        "import warnings\n",
        "warnings.filterwarnings('ignore')"
      ],
      "metadata": {
        "id": "M8Vqi-pPk-HR"
      },
      "execution_count": null,
      "outputs": []
    },
    {
      "cell_type": "markdown",
      "source": [
        "### Dataset Loading"
      ],
      "metadata": {
        "id": "3RnN4peoiCZX"
      }
    },
    {
      "cell_type": "code",
      "source": [
        "# Load Dataset\n",
        "netflix_df = pd.read_csv('/content/NETFLIX MOVIES AND TV SHOWS CLUSTERING.csv')\n"
      ],
      "metadata": {
        "id": "4CkvbW_SlZ_R"
      },
      "execution_count": null,
      "outputs": []
    },
    {
      "cell_type": "markdown",
      "source": [
        "### Dataset First View"
      ],
      "metadata": {
        "id": "x71ZqKXriCWQ"
      }
    },
    {
      "cell_type": "code",
      "source": [
        "# Dataset First Look\n",
        "netflix_df.head()"
      ],
      "metadata": {
        "id": "LWNFOSvLl09H"
      },
      "execution_count": null,
      "outputs": []
    },
    {
      "cell_type": "markdown",
      "source": [
        "### Dataset Rows & Columns count"
      ],
      "metadata": {
        "id": "7hBIi_osiCS2"
      }
    },
    {
      "cell_type": "code",
      "source": [
        "# Dataset Rows & Columns count\n",
        "print(\"Number of Rows =\",netflix_df.shape[0])\n",
        "print(\"Number of Columns =\",netflix_df.shape[1])"
      ],
      "metadata": {
        "id": "Kllu7SJgmLij"
      },
      "execution_count": null,
      "outputs": []
    },
    {
      "cell_type": "markdown",
      "source": [
        "### Dataset Information"
      ],
      "metadata": {
        "id": "JlHwYmJAmNHm"
      }
    },
    {
      "cell_type": "code",
      "source": [
        "# Dataset Info\n",
        "netflix_df.info()"
      ],
      "metadata": {
        "id": "e9hRXRi6meOf"
      },
      "execution_count": null,
      "outputs": []
    },
    {
      "cell_type": "markdown",
      "source": [
        "#### Duplicate Values"
      ],
      "metadata": {
        "id": "35m5QtbWiB9F"
      }
    },
    {
      "cell_type": "code",
      "source": [
        "# Dataset Duplicate Value Count\n",
        "print(\"Number of Duplicate Values in Dataset =\",netflix_df.duplicated().sum())"
      ],
      "metadata": {
        "id": "1sLdpKYkmox0"
      },
      "execution_count": null,
      "outputs": []
    },
    {
      "cell_type": "markdown",
      "source": [
        "#### Missing Values/Null Values"
      ],
      "metadata": {
        "id": "PoPl-ycgm1ru"
      }
    },
    {
      "cell_type": "code",
      "source": [
        "# Missing Values/Null Values Count\n",
        "print(\"Number of Missing Values in Dataset =\",netflix_df.isnull().sum().sum())"
      ],
      "metadata": {
        "id": "GgHWkxvamxVg"
      },
      "execution_count": null,
      "outputs": []
    },
    {
      "cell_type": "code",
      "source": [
        "# Visualizing the missing values\n",
        "# Calculating the number of missing values per column\n",
        "missing_values = netflix_df.isnull().sum()\n",
        "\n",
        "# Plotting the missing values\n",
        "fig, ax = plt.subplots(figsize=(16, 6))\n",
        "bars = ax.bar(missing_values.index, missing_values.values, color='red')\n",
        "\n",
        "# Adding data labels on top of the bars\n",
        "for bar in bars:\n",
        "    yval = bar.get_height()\n",
        "    ax.text(bar.get_x() + bar.get_width()/2, yval, f'{yval}',\n",
        "            ha='center', va='bottom', fontsize=9, fontweight='bold', color='black')\n",
        "\n",
        "# Adding labels and title\n",
        "plt.title('Missing Values per Column', fontsize=16, fontweight='bold')\n",
        "plt.xlabel('Columns', fontsize=12)\n",
        "plt.ylabel('Number of Missing Values', fontsize=12)\n",
        "\n",
        "# Rotating x-axis labels for better readability\n",
        "plt.xticks(rotation=45)\n",
        "\n",
        "# Display the plot\n",
        "plt.show()"
      ],
      "metadata": {
        "id": "3q5wnI3om9sJ"
      },
      "execution_count": null,
      "outputs": []
    },
    {
      "cell_type": "markdown",
      "source": [
        "### What did you know about your dataset?"
      ],
      "metadata": {
        "id": "H0kj-8xxnORC"
      }
    },
    {
      "cell_type": "markdown",
      "source": [
        "The Netflix dataset comprises 7,787 records and 12 columns, capturing detailed information about TV shows and movies available on the platform as of 2019. It includes key attributes such as title, type (movie or TV show), director, cast, country, date added, release year, rating, duration, genres (listed_in), and description. Notably, the dataset is clean with no duplicate rows. However, it contains 3,631 missing values spread across five columns — with the highest being in the director (2,389) and cast (718) fields, followed by country (507), date_added (10), and rating (7). These gaps indicate that metadata for some entries, especially related to creative contributors and geographic origin, may be incomplete. Despite this, the dataset is rich and well-suited for exploratory analysis on content trends, genre distribution, and regional availability.\n",
        "\n"
      ],
      "metadata": {
        "id": "gfoNAAC-nUe_"
      }
    },
    {
      "cell_type": "markdown",
      "source": [
        "## ***2. Understanding Your Variables***"
      ],
      "metadata": {
        "id": "nA9Y7ga8ng1Z"
      }
    },
    {
      "cell_type": "code",
      "source": [
        "# Dataset Columns\n",
        "netflix_df.columns"
      ],
      "metadata": {
        "id": "j7xfkqrt5Ag5"
      },
      "execution_count": null,
      "outputs": []
    },
    {
      "cell_type": "code",
      "source": [
        "# Dataset Describe\n",
        "netflix_df.describe(include = 'all')"
      ],
      "metadata": {
        "id": "DnOaZdaE5Q5t"
      },
      "execution_count": null,
      "outputs": []
    },
    {
      "cell_type": "markdown",
      "source": [
        "### Variables Description"
      ],
      "metadata": {
        "id": "PBTbrJXOngz2"
      }
    },
    {
      "cell_type": "markdown",
      "source": [
        "1. **show_id:** Unique identifier for each show in the dataset.\n",
        "\n",
        "2. **type:** Indicates whether the entry is a Movie or a TV Show.\n",
        "\n",
        "3. **title:** The name of the show or movie.\n",
        "\n",
        "4. **director:** Name of the directors\n",
        "\n",
        "5. **cast:** List of main actors.\n",
        "\n",
        "6. **country:** Country where the show/movie was produced.\n",
        "\n",
        "7. **date_added:** The date the title was added to Netflix.\n",
        "\n",
        "8. **release_year:** The year the show or movie was originally released.\n",
        "\n",
        "9. **rating:** Age rating of the content (e.g., TV-MA, PG-13).\n",
        "\n",
        "10. **duration:** Length of the movie (in minutes) or number of seasons for a TV show.\n",
        "\n",
        "11. **listed_in:** Genres or categories assigned to the title.\n",
        "\n",
        "12. **description:** A short summary of the content."
      ],
      "metadata": {
        "id": "aJV4KIxSnxay"
      }
    },
    {
      "cell_type": "markdown",
      "source": [
        "### Check Unique Values for each variable."
      ],
      "metadata": {
        "id": "u3PMJOP6ngxN"
      }
    },
    {
      "cell_type": "code",
      "source": [
        "# Check Unique Values for each variable.\n",
        "for i in netflix_df.columns:\n",
        "  print(\"No. of unique values in\",i,\"=\",netflix_df[i].nunique())"
      ],
      "metadata": {
        "id": "zms12Yq5n-jE"
      },
      "execution_count": null,
      "outputs": []
    },
    {
      "cell_type": "markdown",
      "source": [
        "## 3. ***Data Wrangling***"
      ],
      "metadata": {
        "id": "dauF4eBmngu3"
      }
    },
    {
      "cell_type": "markdown",
      "source": [
        "### Data Wrangling Code"
      ],
      "metadata": {
        "id": "bKJF3rekwFvQ"
      }
    },
    {
      "cell_type": "code",
      "source": [
        "# Write your code to make your dataset analysis ready.\n",
        "# 1. Create copy of dataset\n",
        "df = netflix_df.copy()"
      ],
      "metadata": {
        "id": "wk-9a2fpoLcV"
      },
      "execution_count": null,
      "outputs": []
    },
    {
      "cell_type": "code",
      "source": [
        "# 2. Fill missing values\n",
        "df['director'].fillna(\"Not Available\", inplace=True)\n",
        "df['cast'].fillna(\"Not Available\", inplace=True)\n",
        "df['country'].fillna(\"Not Available\", inplace=True)\n",
        "df['date_added'].fillna(\"Not Available\", inplace=True)\n",
        "df['rating'].fillna(\"Not Rated\", inplace=True)"
      ],
      "metadata": {
        "id": "Q5kglZs6YjhY"
      },
      "execution_count": null,
      "outputs": []
    },
    {
      "cell_type": "code",
      "source": [
        "# 3. Converting date_added column to date_time datatype\n",
        "df['date_added'] = pd.to_datetime(df['date_added'], errors='coerce')"
      ],
      "metadata": {
        "id": "XWrF1sQMbkIJ"
      },
      "execution_count": null,
      "outputs": []
    },
    {
      "cell_type": "code",
      "source": [
        "# 4. Extracting year and month from date_added\n",
        "df['year_added'] = df['date_added'].dt.year\n",
        "df['month_added'] = df['date_added'].dt.month_name()"
      ],
      "metadata": {
        "id": "OegGowpNfwmM"
      },
      "execution_count": null,
      "outputs": []
    },
    {
      "cell_type": "code",
      "source": [
        "# 5. Converting year into int datatype\n",
        "df['year_added'] = df['year_added'].astype('Int64')"
      ],
      "metadata": {
        "id": "Z1c2NbbJf8lr"
      },
      "execution_count": null,
      "outputs": []
    },
    {
      "cell_type": "code",
      "source": [
        "# 6. Drop irrelevant columns\n",
        "df.drop(columns = ['show_id'], inplace = True)"
      ],
      "metadata": {
        "id": "zS_Q0F3GgkX5"
      },
      "execution_count": null,
      "outputs": []
    },
    {
      "cell_type": "code",
      "source": [
        "# 7. Creating genre list\n",
        "# Strip whitespace and ensure consistency\n",
        "df['listed_in'] = df['listed_in'].str.strip()\n",
        "\n",
        "# Create a list of genres in a new column\n",
        "df['genre_list'] = df['listed_in'].str.split(',\\s*')  # Splits by comma and strips spaces\n",
        "\n",
        "# Flatten all genres into one list to find unique genres\n",
        "from itertools import chain\n",
        "all_genres = list(chain.from_iterable(df['genre_list']))\n",
        "unique_genres = set(all_genres)\n",
        "print(unique_genres)"
      ],
      "metadata": {
        "id": "vFQ7GcS9lkNE"
      },
      "execution_count": null,
      "outputs": []
    },
    {
      "cell_type": "code",
      "source": [
        "# 8. Value count for each genre\n",
        "from collections import Counter\n",
        "# Flatten all genres into one list\n",
        "all_genres = [genre for sublist in df['genre_list'] for genre in sublist]\n",
        "\n",
        "# Count occurrences of each genre\n",
        "genre_counts = pd.Series(Counter(all_genres)).sort_values(ascending=False)\n",
        "\n",
        "# Display genre counts\n",
        "print(genre_counts)"
      ],
      "metadata": {
        "id": "4ni_8yi3nW0_"
      },
      "execution_count": null,
      "outputs": []
    },
    {
      "cell_type": "code",
      "source": [
        "# 9. Drop rows where 'date_added' is missing\n",
        "df = df.dropna(subset=['date_added']).reset_index(drop=True)"
      ],
      "metadata": {
        "id": "AXERp0SIewCs"
      },
      "execution_count": null,
      "outputs": []
    },
    {
      "cell_type": "code",
      "source": [
        "# 10. Extract numeric duration and duration type\n",
        "df[['duration_value', 'duration_type']] = df['duration'].str.extract(r'(\\d+)\\s*(\\w+)')\n",
        "\n",
        "# Convert duration_value to numeric type\n",
        "df['duration_value'] = pd.to_numeric(df['duration_value'])\n"
      ],
      "metadata": {
        "id": "CSCiKpmqfvrp"
      },
      "execution_count": null,
      "outputs": []
    },
    {
      "cell_type": "code",
      "source": [
        "# 11. Standardize the duration_type\n",
        "df['duration_type'] = df['duration_type'].replace({'Seasons': 'Season'})\n",
        "df['duration_type'] = df['duration_type'].replace({'min' : 'Minutes'})"
      ],
      "metadata": {
        "id": "Nw4ZKJ8zhi8m"
      },
      "execution_count": null,
      "outputs": []
    },
    {
      "cell_type": "markdown",
      "source": [
        "### What all manipulations have you done and insights you found?"
      ],
      "metadata": {
        "id": "MSa1f5Uengrz"
      }
    },
    {
      "cell_type": "markdown",
      "source": [
        "#### **Manipulations:**\n",
        "1. **Created a Copy of the Dataset-**\n",
        "\n",
        " * Ensured the original dataset remains unchanged for reference and backup.\n",
        "\n",
        "2. **Handled Missing Values-**\n",
        "\n",
        " * Filled missing values in columns like director, cast, country, rating, and date_added with appropriate placeholders or removed them where necessary (e.g., dropped rows where date_added was missing to preserve time-based analysis accuracy).\n",
        "\n",
        "3. **Converted date_added to DateTime Format-**\n",
        "\n",
        " * Enabled accurate extraction of time-based features and chronological analysis of content added to Netflix.\n",
        "\n",
        "4. **Extracted Year and Month from date_added-**\n",
        "\n",
        " * Created new columns (year_added, month_added) for trend analysis of content over time.\n",
        "\n",
        "5. **Converted Year to Integer Format-**\n",
        "\n",
        " * Allowed numeric-based grouping and sorting for time series analysis.\n",
        "\n",
        "6. **Dropped Irrelevant Columns-**\n",
        "\n",
        " * Removed non-analytical columns like show_id that do not contribute insights to the analysis.\n",
        "\n",
        "7. **Cleaned and Standardized the listed_in (Genre) Column-**\n",
        "\n",
        " * Split multiple genres into lists and trimmed whitespace, enabling more accurate genre-wise analysis.\n",
        "\n",
        "8. **Performed Value Counts for Each Genre-**\n",
        "\n",
        " * Helped in identifying the most common content categories on Netflix, such as Drama, International Movies, or Comedies.\n",
        "\n",
        "9. **Dropped Rows with Null date_added-**\n",
        "\n",
        " * Ensured consistency in time-based trend analysis.\n",
        "\n",
        "10. **Extracted Numeric and Type from duration Column-**\n",
        "\n",
        " * Separated numeric values and units (e.g., minutes vs. seasons) to enable distinct analysis for movies and TV shows.\n",
        "\n",
        "11. **Standardized duration_type Values-**\n",
        "\n",
        " * Ensured consistency by normalizing values (e.g., \"Season\" and \"Seasons\" both mapped to a standard \"Season\").\n",
        "\n",
        "\n",
        "----\n",
        "#### **Insights:**\n",
        "1. A significant number of missing values were found in director and cast, showing many shows lack complete credits.\n",
        "\n",
        "2. The most common content type is Movies, but year-wise trends can reveal whether TV Shows are increasing over time.\n",
        "\n",
        "3. After genre extraction, it was found that Drama, Comedies, and International Movies are among the most frequently occurring genres.\n",
        "\n",
        "4. Cleaning the duration column helped distinguish between TV Shows (with seasons) and Movies (with duration in minutes), setting the foundation for separate analysis by content type.\n",
        "\n",
        "5. Removing rows without date_added ensured reliable trend analysis across years and months, aiding in understanding content release patterns.\n",
        "\n",
        "\n",
        "\n"
      ],
      "metadata": {
        "id": "LbyXE7I1olp8"
      }
    },
    {
      "cell_type": "markdown",
      "source": [
        "## ***4. Data Vizualization, Storytelling & Experimenting with charts : Understand the relationships between variables***"
      ],
      "metadata": {
        "id": "GF8Ens_Soomf"
      }
    },
    {
      "cell_type": "code",
      "source": [
        "# Set chart style\n",
        "plt.style.use('ggplot')"
      ],
      "metadata": {
        "id": "eYDMh5dtrdNb"
      },
      "execution_count": null,
      "outputs": []
    },
    {
      "cell_type": "markdown",
      "source": [
        "### **Univariate Analysis**"
      ],
      "metadata": {
        "id": "8dEX6oZWrtew"
      }
    },
    {
      "cell_type": "markdown",
      "source": [
        "#### Chart - 1 - Content Type Distribution"
      ],
      "metadata": {
        "id": "0wOQAZs5pc--"
      }
    },
    {
      "cell_type": "code",
      "source": [
        "# Chart - 1 visualization code\n",
        "# Bar plot for count of Movies vs TV Shows\n",
        "# Set figure size\n",
        "plt.figure(figsize=(14, 6))\n",
        "# Create countplot\n",
        "sns.countplot(data=df, x='type', palette='Set2')\n",
        "# Add labels and title\n",
        "plt.title(\"Count of Movies vs TV Shows on Netflix\", fontsize = 16, fontweight = 'bold')\n",
        "plt.xlabel(\"Type of Content\")\n",
        "plt.ylabel(\"Count\")\n",
        "# Add data labels\n",
        "for p in plt.gca().patches:\n",
        "    plt.text(p.get_x() + p.get_width() / 2, p.get_height(), int(p.get_height()),\n",
        "             ha='center', va='bottom', fontsize=10)\n",
        "# Show plot\n",
        "plt.show()"
      ],
      "metadata": {
        "id": "7v_ESjsspbW7"
      },
      "execution_count": null,
      "outputs": []
    },
    {
      "cell_type": "markdown",
      "source": [
        "##### 1. Why did you pick the specific chart?"
      ],
      "metadata": {
        "id": "K5QZ13OEpz2H"
      }
    },
    {
      "cell_type": "markdown",
      "source": [
        "This bar chart is ideal to show categorical comparison between the two types of content—Movies and TV Shows—available on Netflix. It helps us quickly gauge which format dominates the platform."
      ],
      "metadata": {
        "id": "XESiWehPqBRc"
      }
    },
    {
      "cell_type": "markdown",
      "source": [
        "##### 2. What is/are the insight(s) found from the chart?"
      ],
      "metadata": {
        "id": "lQ7QKXXCp7Bj"
      }
    },
    {
      "cell_type": "markdown",
      "source": [
        "The chart shows that Movies significantly outnumber TV Shows on Netflix. This implies a heavier emphasis on film-based content compared to episodic series."
      ],
      "metadata": {
        "id": "C_j1G7yiqdRP"
      }
    },
    {
      "cell_type": "markdown",
      "source": [
        "##### 3. Will the gained insights help creating a positive business impact?\n",
        "Are there any insights that lead to negative growth? Justify with specific reason."
      ],
      "metadata": {
        "id": "448CDAPjqfQr"
      }
    },
    {
      "cell_type": "markdown",
      "source": [
        "**Positive Impact-**\n",
        "Understanding this content balance helps stakeholders determine whether to invest more in movies or diversify into TV shows. If TV shows lead to better retention (due to binge-watching), this insight could influence strategic content development."
      ],
      "metadata": {
        "id": "3cspy4FjqxJW"
      }
    },
    {
      "cell_type": "markdown",
      "source": [
        "#### Chart - 2 - Top 10 Countries by Content Production"
      ],
      "metadata": {
        "id": "KSlN3yHqYklG"
      }
    },
    {
      "cell_type": "code",
      "source": [
        "# Chart - 2 visualization code\n",
        "# Top 10 Countries by Content Production\n",
        "# Set figure size\n",
        "plt.figure(figsize=(16, 6))\n",
        "# Finding top countries\n",
        "top_countries = df['country'].value_counts().head(10)\n",
        "# Create bar plot\n",
        "sns.barplot(y=top_countries.index, x=top_countries.values, palette='viridis')\n",
        "# Add labels and title\n",
        "plt.title(\"Top 10 Countries by Content Count on Netflix\", fontsize = 16, fontweight = 'bold')\n",
        "plt.xlabel(\"Number of Titles\")\n",
        "plt.ylabel(\"Country\")\n",
        "# Add data labels\n",
        "for i, v in enumerate(top_countries.values):\n",
        "    plt.text(v + 5, i, str(v), va='center')\n",
        "# Show plot\n",
        "plt.show()"
      ],
      "metadata": {
        "id": "R4YgtaqtYklH"
      },
      "execution_count": null,
      "outputs": []
    },
    {
      "cell_type": "markdown",
      "source": [
        "##### 1. Why did you pick the specific chart?"
      ],
      "metadata": {
        "id": "t6dVpIINYklI"
      }
    },
    {
      "cell_type": "markdown",
      "source": [
        "A horizontal bar chart is best suited for displaying top contributors (countries in this case), especially when dealing with longer categorical names and counts."
      ],
      "metadata": {
        "id": "5aaW0BYyYklI"
      }
    },
    {
      "cell_type": "markdown",
      "source": [
        "##### 2. What is/are the insight(s) found from the chart?"
      ],
      "metadata": {
        "id": "ijmpgYnKYklI"
      }
    },
    {
      "cell_type": "markdown",
      "source": [
        "The United States is the largest contributor to Netflix’s content library, followed by India and the United Kingdom. This highlights regional focus and production partnerships."
      ],
      "metadata": {
        "id": "PSx9atu2YklI"
      }
    },
    {
      "cell_type": "markdown",
      "source": [
        "##### 3. Will the gained insights help creating a positive business impact?\n",
        "Are there any insights that lead to negative growth? Justify with specific reason."
      ],
      "metadata": {
        "id": "-JiQyfWJYklI"
      }
    },
    {
      "cell_type": "markdown",
      "source": [
        "**Positive Impact-**\n",
        "This can guide localization strategies. For instance, if India ranks high in content, Netflix might consider enhancing its regional content offerings, marketing, or pricing strategies in that region."
      ],
      "metadata": {
        "id": "BcBbebzrYklV"
      }
    },
    {
      "cell_type": "markdown",
      "source": [
        "#### Chart - 3 - Top 10 Content Ratings"
      ],
      "metadata": {
        "id": "EM7whBJCYoAo"
      }
    },
    {
      "cell_type": "code",
      "source": [
        "# Chart - 3 visualization code\n",
        "# Top 10 Content Ratings\n",
        "# Set figure size\n",
        "plt.figure(figsize=(16, 6))\n",
        "# Finding top 10 rating\n",
        "top_ratings = df['rating'].value_counts().head(10)\n",
        "# Create bar plot\n",
        "sns.barplot(x=top_ratings.index, y=top_ratings.values, palette='muted')\n",
        "# Add labels and title\n",
        "plt.title(\"Top 10 Content Ratings on Netflix\", fontsize = 16, fontweight = 'bold')\n",
        "plt.xlabel(\"Rating\")\n",
        "plt.ylabel(\"Number of Titles\")\n",
        "# Set x-ticks rotation\n",
        "plt.xticks(rotation=45)\n",
        "# Add data labels\n",
        "for i, v in enumerate(top_ratings.values):\n",
        "    plt.text(i, v + 10, str(v), ha='center')\n",
        "# Show plot\n",
        "plt.show()"
      ],
      "metadata": {
        "id": "t6GMdE67YoAp"
      },
      "execution_count": null,
      "outputs": []
    },
    {
      "cell_type": "markdown",
      "source": [
        "##### 1. Why did you pick the specific chart?"
      ],
      "metadata": {
        "id": "fge-S5ZAYoAp"
      }
    },
    {
      "cell_type": "markdown",
      "source": [
        "A bar chart gives a clear picture of which content ratings are most prevalent, helping to understand the target audience."
      ],
      "metadata": {
        "id": "5dBItgRVYoAp"
      }
    },
    {
      "cell_type": "markdown",
      "source": [
        "##### 2. What is/are the insight(s) found from the chart?"
      ],
      "metadata": {
        "id": "85gYPyotYoAp"
      }
    },
    {
      "cell_type": "markdown",
      "source": [
        "TV-MA (Mature Audience) and TV-14 are the most common, indicating Netflix's focus on teen and adult viewers. Ratings for general or younger audiences are less frequent."
      ],
      "metadata": {
        "id": "4jstXR6OYoAp"
      }
    },
    {
      "cell_type": "markdown",
      "source": [
        "##### 3. Will the gained insights help creating a positive business impact?\n",
        "Are there any insights that lead to negative growth? Justify with specific reason."
      ],
      "metadata": {
        "id": "RoGjAbkUYoAp"
      }
    },
    {
      "cell_type": "markdown",
      "source": [
        "**Positive Impact-**\n",
        "This helps Netflix optimize its content strategy for its main viewer demographics. However, the lack of content for children may represent an untapped market segment, which could lead to growth if addressed."
      ],
      "metadata": {
        "id": "zfJ8IqMcYoAp"
      }
    },
    {
      "cell_type": "markdown",
      "source": [
        "#### Chart - 4 - Top 10 Genres"
      ],
      "metadata": {
        "id": "4Of9eVA-YrdM"
      }
    },
    {
      "cell_type": "code",
      "source": [
        "# Chart - 4 visualization code\n",
        "# Top 10 genres\n",
        "# Finding top 10 genres\n",
        "top_genres = df['genre_list'].explode().value_counts().head(10)\n",
        "# Set figure size\n",
        "plt.figure(figsize=(14,6))\n",
        "# Create bar plot\n",
        "sns.barplot(x=top_genres.values, y=top_genres.index, palette='viridis')\n",
        "# Add title and labels\n",
        "plt.title('Top 10 Genres on Netflix', fontsize = 16, fontweight = 'bold')\n",
        "plt.xlabel('Count')\n",
        "plt.ylabel('Genre')\n",
        "# Add data labels\n",
        "for index, value in enumerate(top_genres.values):\n",
        "    plt.text(value + 5, index, str(value), va='center')\n",
        "# Show plot\n",
        "plt.show()"
      ],
      "metadata": {
        "id": "irlUoxc8YrdO"
      },
      "execution_count": null,
      "outputs": []
    },
    {
      "cell_type": "markdown",
      "source": [
        "##### 1. Why did you pick the specific chart?"
      ],
      "metadata": {
        "id": "iky9q4vBYrdO"
      }
    },
    {
      "cell_type": "markdown",
      "source": [
        "Bar plots are ideal for comparing frequency across categories. Since genres are a key part of user content preferences, visualizing the most frequent genres can help identify what content dominates the platform."
      ],
      "metadata": {
        "id": "aJRCwT6DYrdO"
      }
    },
    {
      "cell_type": "markdown",
      "source": [
        "##### 2. What is/are the insight(s) found from the chart?"
      ],
      "metadata": {
        "id": "F6T5p64dYrdO"
      }
    },
    {
      "cell_type": "markdown",
      "source": [
        "The most common genres include International Movies, Dramas, and Comedies. This suggests Netflix prioritizes diverse storytelling and emotional or humor-driven content that appeals to a wide audience."
      ],
      "metadata": {
        "id": "Xx8WAJvtYrdO"
      }
    },
    {
      "cell_type": "markdown",
      "source": [
        "##### 3. Will the gained insights help creating a positive business impact?\n",
        "Are there any insights that lead to negative growth? Justify with specific reason."
      ],
      "metadata": {
        "id": "y-Ehk30pYrdP"
      }
    },
    {
      "cell_type": "markdown",
      "source": [
        "**Positive Impact-**\n",
        "Understanding which genres perform well can help Netflix acquire or produce similar content.\n",
        "\n",
        "**Negative Impact-**\n",
        "There's no negative growth insight here, but an over-reliance on a few genres might risk market saturation."
      ],
      "metadata": {
        "id": "jLNxxz7MYrdP"
      }
    },
    {
      "cell_type": "markdown",
      "source": [
        "#### Chart - 5 - Year-wise Count Plot"
      ],
      "metadata": {
        "id": "bamQiAODYuh1"
      }
    },
    {
      "cell_type": "code",
      "source": [
        "# Chart - 5 visualization code\n",
        "# Year-wise Count Plot\n",
        "# Set figure size\n",
        "plt.figure(figsize=(16,6))\n",
        "# Create countplot\n",
        "sns.countplot(data=df, x='year_added', order=sorted(df['year_added'].dropna().astype(int).unique()), palette='viridis')\n",
        "# Set rotation for x-ticks\n",
        "plt.xticks(rotation=45)\n",
        "# Add title and labels\n",
        "plt.title('Number of Titles Added Per Year', fontsize = 16, fontweight = 'bold')\n",
        "plt.xlabel('Year')\n",
        "plt.ylabel('Number of Titles')\n",
        "# Add data labels\n",
        "for index, value in enumerate(df['year_added'].value_counts().sort_index().values):\n",
        "    plt.text(index, value + 5, str(value), ha='center')\n",
        "# Show plot\n",
        "plt.show()\n",
        "\n"
      ],
      "metadata": {
        "id": "TIJwrbroYuh3"
      },
      "execution_count": null,
      "outputs": []
    },
    {
      "cell_type": "markdown",
      "source": [
        "##### 1. Why did you pick the specific chart?"
      ],
      "metadata": {
        "id": "QHF8YVU7Yuh3"
      }
    },
    {
      "cell_type": "markdown",
      "source": [
        "This helps observe how Netflix's content library evolved over time."
      ],
      "metadata": {
        "id": "dcxuIMRPYuh3"
      }
    },
    {
      "cell_type": "markdown",
      "source": [
        "##### 2. What is/are the insight(s) found from the chart?"
      ],
      "metadata": {
        "id": "GwzvFGzlYuh3"
      }
    },
    {
      "cell_type": "markdown",
      "source": [
        "Most titles were added around 2017 - 2020, indicating rapid expansion during those years, especially during pandemic years."
      ],
      "metadata": {
        "id": "uyqkiB8YYuh3"
      }
    },
    {
      "cell_type": "markdown",
      "source": [
        "##### 3. Will the gained insights help creating a positive business impact?\n",
        "Are there any insights that lead to negative growth? Justify with specific reason."
      ],
      "metadata": {
        "id": "qYpmQ266Yuh3"
      }
    },
    {
      "cell_type": "markdown",
      "source": [
        "**Positive Impact-**\n",
        "Understanding high-content years helps plan future licensing/acquisitions.\n",
        "\n",
        "**Negative Impact-**\n",
        "No negative trends, but post-pandemic content dip may reflect reduced production or new strategy."
      ],
      "metadata": {
        "id": "_WtzZ_hCYuh4"
      }
    },
    {
      "cell_type": "markdown",
      "source": [
        "#### Chart - 6 - Month-wise Count Plot\n"
      ],
      "metadata": {
        "id": "OH-pJp9IphqM"
      }
    },
    {
      "cell_type": "code",
      "source": [
        "# Chart - 6 visualization code\n",
        "# Month-wise Count Plot\n",
        "# Set month order\n",
        "month_order = ['January', 'February', 'March', 'April', 'May', 'June',\n",
        "               'July', 'August', 'September', 'October', 'November', 'December']\n",
        "# Set figure size\n",
        "plt.figure(figsize=(16,6))\n",
        "# Create countplot\n",
        "ax = sns.countplot(data=df, x='month_added', order=month_order, palette='Set2')\n",
        "# Add data labels\n",
        "for p in ax.patches:\n",
        "    height = int(p.get_height())\n",
        "    ax.annotate(f'{height}',\n",
        "                (p.get_x() + p.get_width() / 2, height),\n",
        "                ha='center', va='bottom', fontsize=10)\n",
        "# Add title and labels\n",
        "plt.title('Content Addition by Month', fontsize = 16, fontweight = 'bold')\n",
        "plt.xlabel('Month')\n",
        "plt.ylabel('Number of Titles')\n",
        "# Set rotation for x-ticks\n",
        "plt.xticks(rotation=45)\n",
        "# Show plot\n",
        "plt.show()\n"
      ],
      "metadata": {
        "id": "kuRf4wtuphqN"
      },
      "execution_count": null,
      "outputs": []
    },
    {
      "cell_type": "markdown",
      "source": [
        "##### 1. Why did you pick the specific chart?"
      ],
      "metadata": {
        "id": "bbFf2-_FphqN"
      }
    },
    {
      "cell_type": "markdown",
      "source": [
        "It uncovers seasonal trends in content releases, which can influence marketing and engagement strategies."
      ],
      "metadata": {
        "id": "loh7H2nzphqN"
      }
    },
    {
      "cell_type": "markdown",
      "source": [
        "##### 2. What is/are the insight(s) found from the chart?"
      ],
      "metadata": {
        "id": "_ouA3fa0phqN"
      }
    },
    {
      "cell_type": "markdown",
      "source": [
        "December sees a significant rise, likely due to holiday season promotions. Lesser content is added mid-year."
      ],
      "metadata": {
        "id": "VECbqPI7phqN"
      }
    },
    {
      "cell_type": "markdown",
      "source": [
        "##### 3. Will the gained insights help creating a positive business impact?\n",
        "Are there any insights that lead to negative growth? Justify with specific reason."
      ],
      "metadata": {
        "id": "Seke61FWphqN"
      }
    },
    {
      "cell_type": "markdown",
      "source": [
        "**Positive Impact-**\n",
        "Helps in aligning new launches with viewer activity patterns.\n",
        "\n",
        "**Negative Impact-**\n",
        "Not a negative sign, but off-season periods could be optimized with strategic releases.\n",
        "\n"
      ],
      "metadata": {
        "id": "DW4_bGpfphqN"
      }
    },
    {
      "cell_type": "markdown",
      "source": [
        "#### Chart - 7 - Distribution of Movie Duration (in minutes)"
      ],
      "metadata": {
        "id": "PIIx-8_IphqN"
      }
    },
    {
      "cell_type": "code",
      "source": [
        "# Chart - 7 visualization code\n",
        "# Histogram of Movie Duration (in minutes)\n",
        "# Filter duration type to minutes\n",
        "movie_data = df[df['duration_type'] == 'Minutes']\n",
        "# Set figure size\n",
        "plt.figure(figsize=(14,6))\n",
        "# Create histogram\n",
        "sns.histplot(movie_data['duration_value'], bins=30, kde=True, color='dodgerblue')\n",
        "# Add title and labels\n",
        "plt.title('Distribution of Movie Durations', fontsize = 16, fontweight = 'bold')\n",
        "plt.xlabel('Duration (minutes)')\n",
        "plt.ylabel('Frequency')\n",
        "# Show Plot\n",
        "plt.show()\n"
      ],
      "metadata": {
        "id": "lqAIGUfyphqO"
      },
      "execution_count": null,
      "outputs": []
    },
    {
      "cell_type": "markdown",
      "source": [
        "##### 1. Why did you pick the specific chart?"
      ],
      "metadata": {
        "id": "t27r6nlMphqO"
      }
    },
    {
      "cell_type": "markdown",
      "source": [
        "Histograms are perfect to understand the spread of numerical data, in this case, movie lengths."
      ],
      "metadata": {
        "id": "iv6ro40sphqO"
      }
    },
    {
      "cell_type": "markdown",
      "source": [
        "##### 2. What is/are the insight(s) found from the chart?"
      ],
      "metadata": {
        "id": "r2jJGEOYphqO"
      }
    },
    {
      "cell_type": "markdown",
      "source": [
        "Most movies are between 80-100 minutes long, showing Netflix prefers standard-length films suitable for casual viewing."
      ],
      "metadata": {
        "id": "Po6ZPi4hphqO"
      }
    },
    {
      "cell_type": "markdown",
      "source": [
        "##### 3. Will the gained insights help creating a positive business impact?\n",
        "Are there any insights that lead to negative growth? Justify with specific reason."
      ],
      "metadata": {
        "id": "b0JNsNcRphqO"
      }
    },
    {
      "cell_type": "markdown",
      "source": [
        "**Positive Impact-**\n",
        "Knowing the sweet spot helps inform new content creation.\n",
        "\n",
        "**Negative Impact-**\n",
        "No major downside, but a lack of longer films may limit niche audiences."
      ],
      "metadata": {
        "id": "xvSq8iUTphqO"
      }
    },
    {
      "cell_type": "markdown",
      "source": [
        "#### Chart - 8 - Bar Plot of Number of Seasons (TV Shows)"
      ],
      "metadata": {
        "id": "BZR9WyysphqO"
      }
    },
    {
      "cell_type": "code",
      "source": [
        "# Chart - 8 visualization code\n",
        "# Bar Plot of Number of Seasons (TV Shows)\n",
        "# Filter the duration type to season\n",
        "tv_shows = df[df['duration_type'] == 'Season']\n",
        "# Calculating season counts\n",
        "season_count = tv_shows['duration_value'].value_counts().sort_index()\n",
        "# Set figure size\n",
        "plt.figure(figsize=(14,6))\n",
        "# Create bar plot\n",
        "ax = sns.barplot(x=season_count.index, y=season_count.values, palette='muted')\n",
        "# Add data labels\n",
        "for p in ax.patches:\n",
        "    height = int(p.get_height())\n",
        "    ax.annotate(f'{height}',\n",
        "                (p.get_x() + p.get_width() / 2, height),\n",
        "                ha='center', va='bottom', fontsize=9)\n",
        "# Add title and labels\n",
        "plt.title('Number of Seasons in TV Shows', fontsize = 16, fontweight = 'bold')\n",
        "plt.xlabel('Seasons')\n",
        "plt.ylabel('Number of TV Shows')\n",
        "# Show plot\n",
        "plt.show()\n"
      ],
      "metadata": {
        "id": "TdPTWpAVphqO"
      },
      "execution_count": null,
      "outputs": []
    },
    {
      "cell_type": "markdown",
      "source": [
        "##### 1. Why did you pick the specific chart?"
      ],
      "metadata": {
        "id": "jj7wYXLtphqO"
      }
    },
    {
      "cell_type": "markdown",
      "source": [
        "Gives insight into how long Netflix shows run, indicating viewer engagement strategies and series planning."
      ],
      "metadata": {
        "id": "Ob8u6rCTphqO"
      }
    },
    {
      "cell_type": "markdown",
      "source": [
        "##### 2. What is/are the insight(s) found from the chart?"
      ],
      "metadata": {
        "id": "eZrbJ2SmphqO"
      }
    },
    {
      "cell_type": "markdown",
      "source": [
        "Most shows have just 1 season. This could indicate anthology-style content or many short series without renewals."
      ],
      "metadata": {
        "id": "mZtgC_hjphqO"
      }
    },
    {
      "cell_type": "markdown",
      "source": [
        "##### 3. Will the gained insights help creating a positive business impact?\n",
        "Are there any insights that lead to negative growth? Justify with specific reason."
      ],
      "metadata": {
        "id": "rFu4xreNphqO"
      }
    },
    {
      "cell_type": "markdown",
      "source": [
        "Short shows cater to binge-watching trends and are cheaper to produce. But too many 1-season series may reflect viewer dissatisfaction or poor reception.\n",
        "\n"
      ],
      "metadata": {
        "id": "ey_0qi68phqO"
      }
    },
    {
      "cell_type": "markdown",
      "source": [
        "### **Bivariate Analysis**"
      ],
      "metadata": {
        "id": "0kz2ilcer08W"
      }
    },
    {
      "cell_type": "markdown",
      "source": [
        "#### Chart - 9 - Content Type Over Year Added"
      ],
      "metadata": {
        "id": "YJ55k-q6phqO"
      }
    },
    {
      "cell_type": "code",
      "source": [
        "# Chart - 9 visualization code\n",
        "# Stacked Bar Plot of Content Type Over Year Added\n",
        "# Group and pivot data\n",
        "content_year = df.groupby(['year_added', 'type']).size().unstack(fill_value=0)\n",
        "# Create bar plot\n",
        "content_year.plot(kind='bar', stacked=True, figsize=(14, 6), colormap='tab20')\n",
        "# Add title and labels\n",
        "plt.title('Stacked Bar Plot of Content Type Over the Years', fontsize=16, fontweight = 'bold')\n",
        "plt.xlabel('Year Added')\n",
        "plt.ylabel('Number of Titles')\n",
        "# Set x-ticks rotation\n",
        "plt.xticks(rotation=45)\n",
        "# Add legend\n",
        "plt.legend(title='Content Type', bbox_to_anchor=(1.02, 1), loc='upper left')\n",
        "# Show plot\n",
        "plt.show()"
      ],
      "metadata": {
        "id": "B2aS4O1ophqO"
      },
      "execution_count": null,
      "outputs": []
    },
    {
      "cell_type": "markdown",
      "source": [
        "##### 1. Why did you pick the specific chart?"
      ],
      "metadata": {
        "id": "gCFgpxoyphqP"
      }
    },
    {
      "cell_type": "markdown",
      "source": [
        "To understand how the distribution of Movies and TV Shows evolved over time on Netflix."
      ],
      "metadata": {
        "id": "TVxDimi2phqP"
      }
    },
    {
      "cell_type": "markdown",
      "source": [
        "##### 2. What is/are the insight(s) found from the chart?"
      ],
      "metadata": {
        "id": "OVtJsKN_phqQ"
      }
    },
    {
      "cell_type": "markdown",
      "source": [
        "Movies dominate, but TV shows steadily grew from 2016 onwards, indicating a strategic content expansion."
      ],
      "metadata": {
        "id": "ngGi97qjphqQ"
      }
    },
    {
      "cell_type": "markdown",
      "source": [
        "##### 3. Will the gained insights help creating a positive business impact?\n",
        "Are there any insights that lead to negative growth? Justify with specific reason."
      ],
      "metadata": {
        "id": "lssrdh5qphqQ"
      }
    },
    {
      "cell_type": "markdown",
      "source": [
        "**Positive Impact-** Shows Netflix is diversifying its portfolio to cater to binge-watch culture.\n",
        "\n",
        "**Negative Impact-** If TV content surpasses demand, it could lead to oversaturation.\n",
        "\n"
      ],
      "metadata": {
        "id": "tBpY5ekJphqQ"
      }
    },
    {
      "cell_type": "markdown",
      "source": [
        "#### Chart - 10 - Movie Duration by Rating\n"
      ],
      "metadata": {
        "id": "U2RJ9gkRphqQ"
      }
    },
    {
      "cell_type": "code",
      "source": [
        "# Chart - 10 visualization code\n",
        "# Boxplot of Movie Duration by Rating\n",
        "# Filter only Movies\n",
        "movies_df = df[df['type'] == 'Movie']\n",
        "# Set figure size\n",
        "plt.figure(figsize=(16, 6))\n",
        "# Create box plot\n",
        "sns.boxplot(data=movies_df, x='rating', y='duration_value', palette='Set2')\n",
        "# Add title and labels\n",
        "plt.title('Boxplot of Movie Duration by Rating', fontsize = 16, fontweight = 'bold')\n",
        "plt.xlabel('Rating')\n",
        "plt.ylabel('Duration (minutes)')\n",
        "# Set x-ticks rotation\n",
        "plt.xticks(rotation=45)\n",
        "# Show plot\n",
        "plt.show()\n"
      ],
      "metadata": {
        "id": "GM7a4YP4phqQ"
      },
      "execution_count": null,
      "outputs": []
    },
    {
      "cell_type": "markdown",
      "source": [
        "##### 1. Why did you pick the specific chart?"
      ],
      "metadata": {
        "id": "1M8mcRywphqQ"
      }
    },
    {
      "cell_type": "markdown",
      "source": [
        "To explore how movie lengths vary by content rating."
      ],
      "metadata": {
        "id": "8agQvks0phqQ"
      }
    },
    {
      "cell_type": "markdown",
      "source": [
        "##### 2. What is/are the insight(s) found from the chart?"
      ],
      "metadata": {
        "id": "tgIPom80phqQ"
      }
    },
    {
      "cell_type": "markdown",
      "source": [
        "'PG-13' and 'R' have wider variability, while 'G' and 'TV-G' are more consistent and shorter.\n",
        "\n"
      ],
      "metadata": {
        "id": "Qp13pnNzphqQ"
      }
    },
    {
      "cell_type": "markdown",
      "source": [
        "##### 3. Will the gained insights help creating a positive business impact?\n",
        "Are there any insights that lead to negative growth? Justify with specific reason."
      ],
      "metadata": {
        "id": "JMzcOPDDphqR"
      }
    },
    {
      "cell_type": "markdown",
      "source": [
        "**Positive Impact-** Helps Netflix tailor duration according to target audience and rating expectations.\n",
        "\n",
        "**Negative Impact-** Overlong content in general audience ratings might disengage viewers.\n",
        "\n"
      ],
      "metadata": {
        "id": "R4Ka1PC2phqR"
      }
    },
    {
      "cell_type": "markdown",
      "source": [
        "#### Chart - 11 - Genres Split by Content Type"
      ],
      "metadata": {
        "id": "x-EpHcCOp1ci"
      }
    },
    {
      "cell_type": "code",
      "source": [
        "# Chart - 11 visualization code\n",
        "# Genres Split by Content Type\n",
        "# Split genres and explode\n",
        "genre_split = df[['type', 'listed_in']].copy()\n",
        "genre_split['listed_in'] = genre_split['listed_in'].str.split(', ')\n",
        "genre_split = genre_split.explode('listed_in')\n",
        "genre_split.rename(columns={'listed_in': 'genre'}, inplace=True)\n",
        "\n",
        "# Get top 10 genres\n",
        "top_genres = genre_split['genre'].value_counts().head(10).index\n",
        "genre_top = genre_split[genre_split['genre'].isin(top_genres)]\n",
        "\n",
        "# Create a pivot table for stacked bar\n",
        "genre_counts = genre_top.pivot_table(index='genre', columns='type', aggfunc='size', fill_value=0)\n",
        "\n",
        "# Counting genres by content type\n",
        "genre_counts = genre_counts.sort_values(by=['Movie', 'TV Show'], ascending=False)\n",
        "# Create bar plot\n",
        "genre_counts[['Movie', 'TV Show']].plot(kind='bar', stacked=True, figsize=(14, 6), colormap='tab20')\n",
        "# Add title and labels\n",
        "plt.title('Stacked Bar Plot of Top Genres by Content Type', fontsize=16, fontweight = 'bold')\n",
        "plt.xlabel('Genre')\n",
        "plt.ylabel('Count')\n",
        "# Set rotation for x-ticks\n",
        "plt.xticks(rotation=45, ha='right')\n",
        "# Add legend\n",
        "plt.legend(title='Type', bbox_to_anchor=(1.02, 1), loc='upper left')\n",
        "# Show plot\n",
        "plt.show()"
      ],
      "metadata": {
        "id": "mAQTIvtqp1cj"
      },
      "execution_count": null,
      "outputs": []
    },
    {
      "cell_type": "markdown",
      "source": [
        "##### 1. Why did you pick the specific chart?"
      ],
      "metadata": {
        "id": "X_VqEhTip1ck"
      }
    },
    {
      "cell_type": "markdown",
      "source": [
        "The stacked bar plot is chosen to show both the individual and combined popularity of each genre while comparing between Movies and TV Shows in a single bar. It enables fast visual assessment of dominance or balance in content types for each genre."
      ],
      "metadata": {
        "id": "-vsMzt_np1ck"
      }
    },
    {
      "cell_type": "markdown",
      "source": [
        "##### 2. What is/are the insight(s) found from the chart?"
      ],
      "metadata": {
        "id": "8zGJKyg5p1ck"
      }
    },
    {
      "cell_type": "markdown",
      "source": [
        "Genres like International TV, and TV Dramas are highly skewed toward TV Shows, while Comedies and Dramas dominate the Movie side. It shows that content format and audience engagement styles differ by genre."
      ],
      "metadata": {
        "id": "ZYdMsrqVp1ck"
      }
    },
    {
      "cell_type": "markdown",
      "source": [
        "##### 3. Will the gained insights help creating a positive business impact?\n",
        "Are there any insights that lead to negative growth? Justify with specific reason."
      ],
      "metadata": {
        "id": "PVzmfK_Ep1ck"
      }
    },
    {
      "cell_type": "markdown",
      "source": [
        "**Positive Impact-**\n",
        "Netflix can tailor their content acquisition and production strategies to meet consumer preferences. For example, if users prefer Documentaries as TV Shows, Netflix could invest more in episodic documentary formats instead of standalone films.\n",
        "\n",
        "**Negative Impact-**\n",
        "If Netflix does not balance its genre portfolio, suppose - if it misses out on emerging genres like Sci-Fi in TV format, it may lose viewer segments to competitors offering more diverse selections. This could potentially lead to subscriber churn."
      ],
      "metadata": {
        "id": "druuKYZpp1ck"
      }
    },
    {
      "cell_type": "markdown",
      "source": [
        "#### Chart - 12 - Content Type by Country\n"
      ],
      "metadata": {
        "id": "n3dbpmDWp1ck"
      }
    },
    {
      "cell_type": "code",
      "source": [
        "# Chart - 12 visualization code\n",
        "# Count Plot of Content Type by Country\n",
        "# Finding top 10 countries\n",
        "top_countries = df['country'].value_counts().head(10).index\n",
        "df_top_countries = df[df['country'].isin(top_countries)]\n",
        "# Set figure size\n",
        "plt.figure(figsize=(14, 6))\n",
        "# Create countplot\n",
        "sns.countplot(data=df_top_countries, x='country', hue='type', palette='Set2')\n",
        "# Add title and labels\n",
        "plt.title('Content Type by Top 10 Producing Countries', fontsize = 16, fontweight = 'bold')\n",
        "plt.xlabel('Country')\n",
        "plt.ylabel('Number of Titles')\n",
        "# Set x-ticks rotation\n",
        "plt.xticks(rotation=45)\n",
        "# Add legend\n",
        "plt.legend(title='Content Type', bbox_to_anchor=(1.02, 1), loc='upper left')\n",
        "# Show plot\n",
        "plt.show()\n"
      ],
      "metadata": {
        "id": "bwevp1tKp1ck"
      },
      "execution_count": null,
      "outputs": []
    },
    {
      "cell_type": "markdown",
      "source": [
        "##### 1. Why did you pick the specific chart?"
      ],
      "metadata": {
        "id": "ylSl6qgtp1ck"
      }
    },
    {
      "cell_type": "markdown",
      "source": [
        "This chart was chosen to compare how different countries contribute to Netflix's library of Movies and TV Shows. A grouped count plot effectively shows side-by-side comparisons, helping us quickly identify content type dominance across countries."
      ],
      "metadata": {
        "id": "m2xqNkiQp1ck"
      }
    },
    {
      "cell_type": "markdown",
      "source": [
        "##### 2. What is/are the insight(s) found from the chart?"
      ],
      "metadata": {
        "id": "ZWILFDl5p1ck"
      }
    },
    {
      "cell_type": "markdown",
      "source": [
        "* The U.S. dominates with the highest number of both Movies and TV Shows, especially Movies.\n",
        "\n",
        "* India and the U.K. contribute heavily to Movies, while South Korea and Japan lean more toward TV Shows.\n",
        "\n",
        "* Some countries offer a more balanced mix, like France and Canada.\n",
        "\n",
        "These insights reflect regional strengths and content preferences on the platform."
      ],
      "metadata": {
        "id": "x-lUsV2mp1ck"
      }
    },
    {
      "cell_type": "markdown",
      "source": [
        "##### 3. Will the gained insights help creating a positive business impact?\n",
        "Are there any insights that lead to negative growth? Justify with specific reason."
      ],
      "metadata": {
        "id": "M7G43BXep1ck"
      }
    },
    {
      "cell_type": "markdown",
      "source": [
        "**Positive impact-**\n",
        "Netflix can use this to optimize content strategy by region, invest more in underrepresented formats (e.g., more TV Shows from India), and ensure better localization. This can improve user engagement and subscriber growth.\n",
        "\n",
        "**Negative Impact-**\n",
        "If Netflix continues to rely heavily on a few countries or ignores regional content preferences, it may lose relevance in some markets. A more balanced content offering can prevent such disengagement."
      ],
      "metadata": {
        "id": "5wwDJXsLp1cl"
      }
    },
    {
      "cell_type": "markdown",
      "source": [
        "#### Chart - 13 - Year Added vs. Number of Releases"
      ],
      "metadata": {
        "id": "Ag9LCva-p1cl"
      }
    },
    {
      "cell_type": "code",
      "source": [
        "# Chart - 13 visualization code\n",
        "# Year Added vs. Number of Releases\n",
        "# Calculating year counts\n",
        "year_counts = df['year_added'].value_counts().reset_index()\n",
        "year_counts.columns = ['year', 'count']\n",
        "# Set figure size\n",
        "plt.figure(figsize=(14, 5))\n",
        "# Create scatter plot\n",
        "sns.scatterplot(data=year_counts, x='year', y='count', size='count', hue='count', palette='viridis', legend=False, sizes=(50, 200))\n",
        "# Add title and labels\n",
        "plt.title('Scatter Plot of Year Added vs. Number of Releases', fontsize = 16, fontweight = 'bold')\n",
        "plt.xlabel('Year')\n",
        "plt.ylabel('Number of Releases')\n",
        "# Show Plot\n",
        "plt.show()"
      ],
      "metadata": {
        "id": "EUfxeq9-p1cl"
      },
      "execution_count": null,
      "outputs": []
    },
    {
      "cell_type": "markdown",
      "source": [
        "##### 1. Why did you pick the specific chart?"
      ],
      "metadata": {
        "id": "E6MkPsBcp1cl"
      }
    },
    {
      "cell_type": "markdown",
      "source": [
        "A scatter plot is ideal for identifying yearly trends and fluctuations in the volume of content added to Netflix. It visually represents how the platform's content library has expanded or contracted over time, showing the distribution and density of releases per year."
      ],
      "metadata": {
        "id": "V22bRsFWp1cl"
      }
    },
    {
      "cell_type": "markdown",
      "source": [
        "##### 2. What is/are the insight(s) found from the chart?"
      ],
      "metadata": {
        "id": "2cELzS2fp1cl"
      }
    },
    {
      "cell_type": "markdown",
      "source": [
        "* The number of releases on Netflix increased steadily from 2015 to 2019, indicating a period of aggressive content acquisition and production.\n",
        "\n",
        "* The peak occurs around 2019-2020, suggesting Netflix was scaling rapidly, possibly in response to growing competition from other streaming platforms.\n",
        "\n",
        "* A notable drop may be observed in 2021, likely due to the COVID-19 pandemic's impact on global film and TV production.\n",
        "\n",
        "This trend highlights how Netflix ramped up its catalog to attract and retain users, with potential setbacks due to external disruptions.\n",
        "\n"
      ],
      "metadata": {
        "id": "ozQPc2_Ip1cl"
      }
    },
    {
      "cell_type": "markdown",
      "source": [
        "##### 3. Will the gained insights help creating a positive business impact?\n",
        "Are there any insights that lead to negative growth? Justify with specific reason."
      ],
      "metadata": {
        "id": "3MPXvC8up1cl"
      }
    },
    {
      "cell_type": "markdown",
      "source": [
        "**Positive Impact-**\n",
        "\n",
        "* Understanding when the platform added the most content helps Netflix:\n",
        "\n",
        "* Analyze the ROI on content acquisition in those peak years.\n",
        "\n",
        "* Forecast demand and plan future content drops more strategically.\n",
        "\n",
        "* Use past release performance data to optimize release schedules.\n",
        "\n",
        "Such insights can improve engagement, drive subscriptions, and inform global expansion efforts.\n",
        "\n",
        "**Negative Impact-**\n",
        "\n",
        "The sharp dip post-2020 could reflect reduced content output, which, if prolonged, might weaken user engagement and increase churn rates. If users perceive a stagnation in new content, it can hurt platform loyalty. It’s crucial for Netflix to diversify production hubs globally to avoid similar slowdowns in the future."
      ],
      "metadata": {
        "id": "GL8l1tdLp1cl"
      }
    },
    {
      "cell_type": "markdown",
      "source": [
        "#### Chart - 14 - Number of Movies/TV Shows by Rating"
      ],
      "metadata": {
        "id": "GgFY8Aym6Dct"
      }
    },
    {
      "cell_type": "code",
      "source": [
        "# Chart - 14 visualization code\n",
        "# Number of Movies/TV Shows by Rating\n",
        "# Set figure size\n",
        "plt.figure(figsize=(12, 6))\n",
        "# Create countplot\n",
        "sns.countplot(data=df, x='rating', hue='type', order=df['rating'].value_counts().index, palette='Accent')\n",
        "# Add title and labels\n",
        "plt.title('Number of Movies and TV Shows by Rating', fontsize = 16, fontweight = 'bold')\n",
        "plt.xlabel('Rating')\n",
        "plt.ylabel('Count')\n",
        "# Set x-ticks rotation\n",
        "plt.xticks(rotation=45)\n",
        "# Add legend\n",
        "plt.legend(title='Type', bbox_to_anchor=(1.02, 1), loc='upper left')\n",
        "# Show plot\n",
        "plt.show()\n"
      ],
      "metadata": {
        "id": "mpC1uJjz6Ddd"
      },
      "execution_count": null,
      "outputs": []
    },
    {
      "cell_type": "markdown",
      "source": [
        "##### 1. Why did you pick the specific chart?"
      ],
      "metadata": {
        "id": "7rvlaAAY6Ddf"
      }
    },
    {
      "cell_type": "markdown",
      "source": [
        "A bar plot is effective for visualizing categorical comparisons, making it ideal for understanding how content is distributed across different audience ratings (e.g., TV-MA, PG, R). It helps identify Netflix’s target audience segments based on content maturity."
      ],
      "metadata": {
        "id": "uPSjAkHm6Ddg"
      }
    },
    {
      "cell_type": "markdown",
      "source": [
        "##### 2. What is/are the insight(s) found from the chart?"
      ],
      "metadata": {
        "id": "tffK-OOJ6Ddi"
      }
    },
    {
      "cell_type": "markdown",
      "source": [
        "* TV-MA (Mature Audience) dominates the catalog, showing Netflix produces or acquires a large volume of content aimed at adults.\n",
        "\n",
        "* Ratings like TV-14 and TV-PG also have significant presence, indicating a solid offering for teens and families.\n",
        "\n",
        "* R-rated and PG-13 content follow behind, while ratings like G or TV-Y are minimal, showing less focus on children's content.\n",
        "\n",
        "This distribution suggests Netflix's focus lies more in mature and general audience content rather than children-specific programming."
      ],
      "metadata": {
        "id": "-8wWlESt6Ddj"
      }
    },
    {
      "cell_type": "markdown",
      "source": [
        "##### 3. Will the gained insights help creating a positive business impact?\n",
        "Are there any insights that lead to negative growth? Justify with specific reason."
      ],
      "metadata": {
        "id": "hAKbCm_m6Ddl"
      }
    },
    {
      "cell_type": "markdown",
      "source": [
        "**Positive Impact-**\n",
        "\n",
        "This helps Netflix understand which audience segments are most catered to, and whether there's an underserved demographic like children or older adults. That insight can inform future content investment to balance the library, increasing appeal across all age groups.\n",
        "\n",
        "**Negative Impact-**\n",
        "\n",
        "If content is overly skewed toward mature audiences, Netflix may miss growth opportunities in family and kids segments, which are key for long-term subscriber retention in multi-member households. A more balanced content mix could improve reach."
      ],
      "metadata": {
        "id": "LvIAOVwk6Ddm"
      }
    },
    {
      "cell_type": "markdown",
      "source": [
        "### **Multivariate Analysis**"
      ],
      "metadata": {
        "id": "Q8QvPwwW9FKW"
      }
    },
    {
      "cell_type": "markdown",
      "source": [
        "#### Chart - 15 - Country vs. Content Type vs. Year"
      ],
      "metadata": {
        "id": "ZCmJOosf9dvI"
      }
    },
    {
      "cell_type": "code",
      "source": [
        "# Chart - 15 visualization code\n",
        "# Country vs. Content Type vs. Year\n",
        "# Prepare data for heatmap\n",
        "heatmap_data = df.pivot_table(index='country', columns='year_added', values='type', aggfunc='count', fill_value=0)\n",
        "top_countries = heatmap_data.sum(axis=1).sort_values(ascending=False).head(10).index\n",
        "heatmap_data = heatmap_data.loc[top_countries]\n",
        "\n",
        "# Set figure size\n",
        "plt.figure(figsize=(14,6))\n",
        "# Create heatmap\n",
        "sns.heatmap(heatmap_data, cmap='YlGnBu', annot=True, fmt='d')\n",
        "# Add title and labels\n",
        "plt.title('Heatmap: Country vs. Content Type vs. Year', fontsize = 16, fontweight = 'bold')\n",
        "plt.xlabel('Year Added')\n",
        "plt.ylabel('Country')\n",
        "# Show plot\n",
        "plt.show()\n"
      ],
      "metadata": {
        "id": "N5djQwLj9dvN"
      },
      "execution_count": null,
      "outputs": []
    },
    {
      "cell_type": "markdown",
      "source": [
        "##### 1. Why did you pick the specific chart?"
      ],
      "metadata": {
        "id": "AcYUadN49dvT"
      }
    },
    {
      "cell_type": "markdown",
      "source": [
        "This heatmap visualizes how content additions vary year-over-year across countries, highlighting trends in content production for top content-producing countries."
      ],
      "metadata": {
        "id": "Ie7rkq5a9dvU"
      }
    },
    {
      "cell_type": "markdown",
      "source": [
        "##### 2. What is/are the insight(s) found from the chart?"
      ],
      "metadata": {
        "id": "T5Rcmkus9dvV"
      }
    },
    {
      "cell_type": "markdown",
      "source": [
        "* Countries like the U.S. and India have consistently high content addition across years, while others (e.g., South Korea, the U.K.) show gradual growth.\n",
        "\n",
        "* Certain years (e.g., 2018-2020) exhibit spikes in content additions globally."
      ],
      "metadata": {
        "id": "Ffu5p0_H9dvW"
      }
    },
    {
      "cell_type": "markdown",
      "source": [
        "##### 3. Will the gained insights help creating a positive business impact?\n",
        "Are there any insights that lead to negative growth? Justify with specific reason."
      ],
      "metadata": {
        "id": "ipZ5_HnP9dvX"
      }
    },
    {
      "cell_type": "markdown",
      "source": [
        "**Positive Impact-**\n",
        "Helps identify key regional contributors and the pace of content acquisition. It can improve regional content diversification and inform expansion strategies.\n",
        "\n"
      ],
      "metadata": {
        "id": "20t-y0269dw9"
      }
    },
    {
      "cell_type": "markdown",
      "source": [
        "#### Chart - 16 - Year Added vs. Content Type vs. Rating"
      ],
      "metadata": {
        "id": "7edEF6bGit5C"
      }
    },
    {
      "cell_type": "code",
      "source": [
        "# Chart - 16 visualization code\n",
        "# Year Added vs. Content Type vs. Rating\n",
        "# Prepare data\n",
        "grouped_data = df.groupby(['year_added', 'type', 'rating']).size().reset_index(name='count')\n",
        "top_ratings = df['rating'].value_counts().head(5).index\n",
        "grouped_data = grouped_data[grouped_data['rating'].isin(top_ratings)]\n",
        "\n",
        "# Plot grouped bar plot\n",
        "plt.figure(figsize=(14,6))\n",
        "sns.barplot(data=grouped_data, x='year_added', y='count', hue='rating', palette='muted', ci = None)\n",
        "plt.title('Year Added vs Content Type vs Rating')\n",
        "plt.xlabel('Year Added')\n",
        "plt.ylabel('Count')\n",
        "plt.legend(title='Rating', bbox_to_anchor=(1.10, 1))\n",
        "plt.xticks(rotation=45)\n",
        "\n",
        "plt.show()\n",
        "\n"
      ],
      "metadata": {
        "id": "WVgLdCWmit5W"
      },
      "execution_count": null,
      "outputs": []
    },
    {
      "cell_type": "markdown",
      "source": [
        "##### 1. Why did you pick the specific chart?"
      ],
      "metadata": {
        "id": "R6moyzVFit5a"
      }
    },
    {
      "cell_type": "markdown",
      "source": [
        "This grouped bar plot shows the distribution of ratings over the years across Movies/TV Shows to identify shifting trends in content maturity."
      ],
      "metadata": {
        "id": "8VnWs6G2it5d"
      }
    },
    {
      "cell_type": "markdown",
      "source": [
        "##### 2. What is/are the insight(s) found from the chart?"
      ],
      "metadata": {
        "id": "bRpHawx5it5f"
      }
    },
    {
      "cell_type": "markdown",
      "source": [
        "Growth in TV-MA and TV-14 content after 2017 reflects Netflix's increasing focus on mature content and teen programming to cater to evolving viewer preferences."
      ],
      "metadata": {
        "id": "K4Swlundit5i"
      }
    },
    {
      "cell_type": "markdown",
      "source": [
        "##### 3. Will the gained insights help creating a positive business impact?\n",
        "Are there any insights that lead to negative growth? Justify with specific reason."
      ],
      "metadata": {
        "id": "hqtI3UBvit5l"
      }
    },
    {
      "cell_type": "markdown",
      "source": [
        "**Positive Impact-**\n",
        "Helps balance content strategy by rating, ensuring enough family-friendly content is added alongside mature programming to widen the audience base.\n",
        "\n"
      ],
      "metadata": {
        "id": "9iCdRTlFit5n"
      }
    },
    {
      "cell_type": "markdown",
      "source": [
        "#### Chart - 17 - Cluster Plot of Content Based on Text Features (Title, Genre, Description)"
      ],
      "metadata": {
        "id": "TOOyIZTVJgLn"
      }
    },
    {
      "cell_type": "code",
      "source": [
        "# Chart - 17 visualization code\n",
        "# Cluster Plot of Content Based on Text Features (Title, Genre, Description)\n",
        "from sklearn.feature_extraction.text import TfidfVectorizer\n",
        "from sklearn.cluster import KMeans\n",
        "from sklearn.manifold import TSNE\n",
        "\n",
        "# Combine text fields: title, description, and listed_in (genres)\n",
        "df['combined_text'] = df['title'].astype(str) + ' ' + df['description'].astype(str) + ' ' + df['listed_in'].astype(str)\n",
        "\n",
        "# Fill any missing combined_text with blank string\n",
        "df['combined_text'] = df['combined_text'].fillna('')\n",
        "\n",
        "# Step 1: Text Vectorization using TF-IDF\n",
        "vectorizer = TfidfVectorizer(stop_words='english', max_features=5000)\n",
        "X_tfidf = vectorizer.fit_transform(df['combined_text'])\n",
        "\n",
        "# Step 2: KMeans Clustering\n",
        "k = 5  # number of clusters (for exploratory purposes)\n",
        "kmeans = KMeans(n_clusters=k, random_state=42)\n",
        "df['cluster'] = kmeans.fit_predict(X_tfidf)\n",
        "\n",
        "# Step 3: Dimensionality Reduction for Visualization using t-SNE\n",
        "tsne = TSNE(n_components=2, random_state=42, perplexity=50)\n",
        "X_tsne = tsne.fit_transform(X_tfidf.toarray())\n",
        "\n",
        "# Add coordinates to the dataframe\n",
        "df['x_tsne'] = X_tsne[:, 0]\n",
        "df['y_tsne'] = X_tsne[:, 1]\n",
        "\n",
        "# Step 4: Create Scatter Plot\n",
        "plt.figure(figsize=(12, 8))\n",
        "palette = sns.color_palette(\"hsv\", k)\n",
        "sns.scatterplot(data=df, x='x_tsne', y='y_tsne', hue='cluster', palette=palette, alpha=0.7)\n",
        "# Add title and labels\n",
        "plt.title('Clustering of Netflix Titles Based on Text Features', fontsize=16, fontweight = 'bold')\n",
        "plt.xlabel('Component 1')\n",
        "plt.ylabel('Component 2')\n",
        "# Add legend\n",
        "plt.legend(title='Cluster', bbox_to_anchor=(1.05, 1), loc='upper left')\n",
        "# Show plot\n",
        "plt.show()"
      ],
      "metadata": {
        "id": "AyhFX0PuJgMW"
      },
      "execution_count": null,
      "outputs": []
    },
    {
      "cell_type": "markdown",
      "source": [
        "##### 1. Why did you pick the specific chart?"
      ],
      "metadata": {
        "id": "8NQdLKQvJgMZ"
      }
    },
    {
      "cell_type": "markdown",
      "source": [
        "The cluster plot is ideal when we want to group content based on similarities in text-based attributes like title, genre, and description. Since the Netflix dataset contains many unstructured textual fields, visualizing clusters formed from these text features helps uncover hidden patterns and groupings. The scatter plot (2D) provides a simplified view of high-dimensional content similarity after dimensionality reduction using PCA or t-SNE."
      ],
      "metadata": {
        "id": "wPgAFkGZJgMa"
      }
    },
    {
      "cell_type": "markdown",
      "source": [
        "##### 2. What is/are the insight(s) found from the chart?"
      ],
      "metadata": {
        "id": "26E5YFxvJgMb"
      }
    },
    {
      "cell_type": "markdown",
      "source": [
        "The plot reveals that Netflix content naturally groups into clusters that represent specific genres or themes—like documentaries, international dramas, stand-up comedy, and TV shows. On analyzing each cluster:\n",
        "\n",
        " * Cluster 0 mostly contains documentaries.\n",
        "\n",
        " * Cluster 1 is dominated by comedies, dramas, and international movies.\n",
        "\n",
        " * Cluster 2 focuses on international TV dramas.\n",
        "\n",
        " * Cluster 3 revolves around stand-up comedy.\n",
        "\n",
        " * Cluster 4 contains international dramas and emotional content.\n",
        "\n",
        "This suggests that Netflix content can be effectively segmented using textual metadata alone."
      ],
      "metadata": {
        "id": "kGgaanLTJgMd"
      }
    },
    {
      "cell_type": "markdown",
      "source": [
        "##### 3. Will the gained insights help creating a positive business impact?\n",
        "Are there any insights that lead to negative growth? Justify with specific reason."
      ],
      "metadata": {
        "id": "89oSn1YAJgMe"
      }
    },
    {
      "cell_type": "markdown",
      "source": [
        "**Positive Impact-**\n",
        "\n",
        "Clustering results can help Netflix recommend similar content to users based on what they've watched previously. It also aids in content curation, personalization, and targeted marketing. Knowing the dominant themes or genres per cluster allows Netflix to identify content gaps or areas of over-saturation. There aren't any direct insights pointing to negative growth, but a possible challenge could be content redundancy, for example- too many shows in the same genre might result in user fatigue if not recommended strategically.\n",
        "\n"
      ],
      "metadata": {
        "id": "LOxRpKqyJgMf"
      }
    },
    {
      "cell_type": "markdown",
      "source": [
        "#### Chart - 18 - Correlation Heatmap"
      ],
      "metadata": {
        "id": "NC_X3p0fY2L0"
      }
    },
    {
      "cell_type": "code",
      "source": [
        "# Correlation Heatmap visualization code\n",
        "# Select relevant numeric columns\n",
        "numerical_cols = ['year_added', 'release_year', 'duration_value']\n",
        "corr_matrix = df[numerical_cols].corr()\n",
        "\n",
        "# Set figure size\n",
        "plt.figure(figsize=(14,6))\n",
        "# Create heatmap\n",
        "sns.heatmap(corr_matrix, annot=True, cmap='YlOrRd', linewidths=0.5)\n",
        "# Add title\n",
        "plt.title('Correlation Heatmap of Numerical Features', fontsize = 16, fontweight = 'bold')\n",
        "# Show plot\n",
        "plt.show()\n"
      ],
      "metadata": {
        "id": "xyC9zolEZNRQ"
      },
      "execution_count": null,
      "outputs": []
    },
    {
      "cell_type": "markdown",
      "source": [
        "##### 1. Why did you pick the specific chart?"
      ],
      "metadata": {
        "id": "UV0SzAkaZNRQ"
      }
    },
    {
      "cell_type": "markdown",
      "source": [
        "To analyze relationships between key numerical variables and identify trends or potential multicollinearity."
      ],
      "metadata": {
        "id": "DVPuT8LYZNRQ"
      }
    },
    {
      "cell_type": "markdown",
      "source": [
        "##### 2. What is/are the insight(s) found from the chart?"
      ],
      "metadata": {
        "id": "YPEH6qLeZNRQ"
      }
    },
    {
      "cell_type": "markdown",
      "source": [
        "A correlation between release year and year added suggests Netflix frequently adds newer content. There’s minimal correlation between duration and other variables."
      ],
      "metadata": {
        "id": "bfSqtnDqZNRR"
      }
    },
    {
      "cell_type": "markdown",
      "source": [
        "#### Chart - 19 - Pair Plot"
      ],
      "metadata": {
        "id": "q29F0dvdveiT"
      }
    },
    {
      "cell_type": "code",
      "source": [
        "# Pair Plot visualization code\n",
        "# Create pairplot\n",
        "sns.pairplot(df[['year_added', 'release_year', 'duration_value']])\n",
        "# Add title\n",
        "plt.suptitle('Pairplot of Numerical Variables', y=1.02, fontsize = 16, fontweight = 'bold')\n",
        "# Show plot\n",
        "plt.show()\n"
      ],
      "metadata": {
        "id": "o58-TEIhveiU"
      },
      "execution_count": null,
      "outputs": []
    },
    {
      "cell_type": "markdown",
      "source": [
        "##### 1. Why did you pick the specific chart?"
      ],
      "metadata": {
        "id": "EXh0U9oCveiU"
      }
    },
    {
      "cell_type": "markdown",
      "source": [
        "Pairplots provide a comprehensive view of relationships between numeric variables, highlighting potential patterns and distributions."
      ],
      "metadata": {
        "id": "eMmPjTByveiU"
      }
    },
    {
      "cell_type": "markdown",
      "source": [
        "##### 2. What is/are the insight(s) found from the chart?"
      ],
      "metadata": {
        "id": "22aHeOlLveiV"
      }
    },
    {
      "cell_type": "markdown",
      "source": [
        "Reveals clustering around specific release years and duration patterns. Shows if older content is being added in certain years."
      ],
      "metadata": {
        "id": "uPQ8RGwHveiV"
      }
    },
    {
      "cell_type": "markdown",
      "source": [
        "## **5. Solution to Business Objective**"
      ],
      "metadata": {
        "id": "JcMwzZxoAimU"
      }
    },
    {
      "cell_type": "markdown",
      "source": [
        "#### What do you suggest the client to achieve Business Objective ?\n",
        "Explain Briefly."
      ],
      "metadata": {
        "id": "8G2x9gOozGDZ"
      }
    },
    {
      "cell_type": "markdown",
      "source": [
        "To achieve the goal of growing viewership, improving content recommendations, and expanding audience reach, the following strategic actions are suggested based on insights from the data:\n",
        "\n",
        "1. **Invest in High-Performing Genres and Formats-**\n",
        "\n",
        " * Dramas, Comedies, and Documentaries consistently dominate the platform across both movies and TV shows.\n",
        "\n",
        " * Focus on expanding these genres with diverse sub-genres and region-specific stories to retain and attract a wider audience.\n",
        "\n",
        "2. **Leverage Regional Content Preferences-**\n",
        "\n",
        " * Countries like the United States, India, and United Kingdom are top contributors to the content library.\n",
        "\n",
        " * Produce and promote more localized content in these regions while also identifying underrepresented markets with growing potential.\n",
        "\n",
        "3. **Optimize Content Rating Mix-**\n",
        "\n",
        " * A significant portion of content is rated TV-MA and R, which limits younger viewers.\n",
        "\n",
        " * Balance content ratings by producing more PG, TV-PG, and TV-14 shows and movies to attract family-friendly and teen segments.\n",
        "\n",
        "4. **Capitalize on Seasonal and Monthly Trends-**\n",
        "\n",
        " * Most content is added during July-October, suggesting a mid-year to year-end release trend.\n",
        "\n",
        " * Spread content releases more evenly across all months to maintain consistent engagement throughout the year.\n",
        "\n",
        "5. **Enhance Recommendation Systems with Metadata-**\n",
        "\n",
        " * Use metadata like genre, duration, content type, rating, and release timing to improve content discovery and personalized recommendations.\n",
        "\n",
        " * This improves user satisfaction and increases watch time.\n",
        "\n",
        "6. **Leverage Clustering Insights-**\n",
        "\n",
        " * Clustering similar content based on text features (titles, genres, descriptions) enables:\n",
        "\n",
        " * Personalized content recommendations.\n",
        "\n",
        " * Grouping similar titles for smarter marketing campaigns.\n",
        "\n",
        " * Identifying underutilized or niche content clusters for growth.\n",
        "\n",
        "By aligning content strategies with audience preferences, diversifying the content library, and using data-driven personalization, Netflix can boost engagement, enhance user retention, and expand its global market presence effectively.\n",
        "\n",
        "\n",
        "\n"
      ],
      "metadata": {
        "id": "pASKb0qOza21"
      }
    },
    {
      "cell_type": "markdown",
      "source": [
        "# **Conclusion**"
      ],
      "metadata": {
        "id": "gCX9965dhzqZ"
      }
    },
    {
      "cell_type": "markdown",
      "source": [
        "From the analysis, we can conclude that netflix adopts a data-driven and audience-centric content strategy. Their dominance in Movies, rising interest in TV Shows, genre flexibility, and localization through country-specific content highlight their intent to capture a diverse and global market. These findings offer valuable guidance for content acquisition, original production, personalized recommendations, and marketing strategies. Clustering was applied using TF-IDF vectorization and KMeans on text-based features like title, genres, and description. This helped group similar types of content into meaningful clusters, such as documentaries, international dramas, and stand-up comedy.\n",
        "\n",
        "These insights can support personalized recommendations, strategic content curation, and audience-specific marketing, enhancing Netflix's ability to align offerings with viewer preferences. By continuing to invest in genre diversity, age-appropriate ratings, and localized content production, Netflix can further strengthen user engagement, improve satisfaction, and sustain its competitive advantage in the ever-evolving streaming landscape.\n",
        "\n"
      ],
      "metadata": {
        "id": "Fjb1IsQkh3yE"
      }
    }
  ]
}